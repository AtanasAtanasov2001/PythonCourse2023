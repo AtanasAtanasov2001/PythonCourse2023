{
 "cells": [
  {
   "cell_type": "markdown",
   "metadata": {},
   "source": [
    "# Задачи по теми 2 и 3"
   ]
  },
  {
   "cell_type": "markdown",
   "metadata": {},
   "source": [
    "## Задача 1 (0.25 т.)\n",
    "\n",
    "По дадена дата във формат `YYYY-MM-DD` (тип `str`) да се върне наредена тройка от числа (`int`), съответстващи на годината, месеца и деня.\n",
    "\n",
    "* Hint: може да използвате `str.split`"
   ]
  },
  {
   "cell_type": "code",
   "execution_count": 2,
   "metadata": {},
   "outputs": [
    {
     "data": {
      "text/plain": [
       "'✅ All OK! +0.25 points'"
      ]
     },
     "execution_count": 2,
     "metadata": {},
     "output_type": "execute_result"
    }
   ],
   "source": [
    "def extract_date_components(date_string):\n",
    "    dates = date_string.split('-')\n",
    "    years = int(dates[0])\n",
    "    months = int(dates[1])\n",
    "    days = int(dates[2])\n",
    "    return (years,months,days)\n",
    "    # pass # your code here\n",
    "\n",
    "\n",
    "# Tests:\n",
    "\n",
    "assert extract_date_components('1970-01-01') == (1970, 1, 1)\n",
    "assert extract_date_components('2023-10-22') == (2023, 10, 22)\n",
    "assert extract_date_components('0000-12-25') == (0, 12, 25)\n",
    "assert extract_date_components('2009-02-29') == (2009, 2, 29), \"no one said it should be a valid date\"\n",
    "\n",
    "\"✅ All OK! +0.25 points\""
   ]
  },
  {
   "cell_type": "markdown",
   "metadata": {},
   "source": [
    "## Задача 2 (0.25т.)\n",
    "\n",
    "Напишете функция `format_date_components`, която:\n",
    "\n",
    "* приема 3 параметъра: `year`, `month`, `day` (тип `int`)\n",
    "* приема oще 1 параметър `separator` (тип `str`), по подразбиране със стойност `'-'`\n",
    "* връща `str` с годината, месеца и деня, разделени със `separator` символа\n",
    "* цифрите на месеца и деня да са точно 2\n",
    "\n",
    "Number formatting reference: https://www.pythoncheatsheet.org/cheatsheet/string-formatting#formatting-digits"
   ]
  },
  {
   "cell_type": "code",
   "execution_count": 7,
   "metadata": {},
   "outputs": [
    {
     "data": {
      "text/plain": [
       "'✅ All OK! +0.25 points'"
      ]
     },
     "execution_count": 7,
     "metadata": {},
     "output_type": "execute_result"
    }
   ],
   "source": [
    "# write your code here\n",
    "def format_date_components(year, month, day, separator='-'):\n",
    "    if int(year) < 10:\n",
    "        year = \"000\" + str(year)\n",
    "        \n",
    "    elif int(year) < 100: \n",
    "        year = \"00\" + str(year)\n",
    "        \n",
    "    elif int(year) < 1000:\n",
    "        year = \"0\" + str(year)\n",
    "        \n",
    "    if int(month) < 10:\n",
    "        month = \"0\" + str(month)\n",
    "        \n",
    "    if int(day) < 10 :\n",
    "        day = \"0\" + str(day)\n",
    "        \n",
    "    return str(year) + separator + str(month) + separator + str(day)\n",
    "# Tests:\n",
    "\n",
    "assert format_date_components(2023, 10, 22) == '2023-10-22'\n",
    "assert format_date_components(2112, 12, 21, separator='/') == '2112/12/21'\n",
    "assert format_date_components(1970, 1, 1) == '1970-01-01', \"check your leading zeroes formatting!\"\n",
    "assert format_date_components(1, 12, 25) == '0001-12-25', \"leading zeroes for the year as well!\"\n",
    "\n",
    "\"✅ All OK! +0.25 points\""
   ]
  },
  {
   "cell_type": "markdown",
   "metadata": {},
   "source": [
    "## Задача 3 (0.25т.)\n",
    "\n",
    "Съединете двата `dict`-а в един.\n"
   ]
  },
  {
   "cell_type": "code",
   "execution_count": 9,
   "metadata": {},
   "outputs": [
    {
     "data": {
      "text/plain": [
       "'✅ All OK! +0.25 points'"
      ]
     },
     "execution_count": 9,
     "metadata": {},
     "output_type": "execute_result"
    }
   ],
   "source": [
    "def merge(d1, d2):\n",
    "    return {**d1, **d2}\n",
    "    # pass # write your code here\n",
    "\n",
    "\n",
    "# Tests:\n",
    "\n",
    "assert merge({\"name\": \"Pesho\", \"year\": 1999}, {\"groups\": [\"A\", \"B\"]}) == {\"name\": \"Pesho\", \"year\": 1999, \"groups\": [\"A\", \"B\"]}\n",
    "assert merge({}, {}) == {}\n",
    "\n",
    "\"✅ All OK! +0.25 points\""
   ]
  },
  {
   "cell_type": "markdown",
   "metadata": {},
   "source": [
    "## Задача 4 (0.25т.)\n",
    "\n",
    "Намерете броя на цифрите на дадено число (в десетична бройна система)."
   ]
  },
  {
   "cell_type": "code",
   "execution_count": 10,
   "metadata": {},
   "outputs": [
    {
     "data": {
      "text/plain": [
       "'✅ All OK! +0.25 points'"
      ]
     },
     "execution_count": 10,
     "metadata": {},
     "output_type": "execute_result"
    }
   ],
   "source": [
    "def digits_count(n):\n",
    "    number = str(n)\n",
    "    return len(number)\n",
    "    pass # write your code here\n",
    "\n",
    "\n",
    "# Tests:\n",
    "\n",
    "assert digits_count(0) == 1\n",
    "assert digits_count(1) == 1\n",
    "assert digits_count(9) == 1\n",
    "assert digits_count(10) == 2\n",
    "assert digits_count(666) == 3\n",
    "assert digits_count(1234) == 4\n",
    "assert digits_count(9876543210) == 10\n",
    "assert digits_count(31415926535897932384626433832795028841971693993751058209749445923078164062862089986280) == 86\n",
    "\n",
    "\"✅ All OK! +0.25 points\""
   ]
  },
  {
   "cell_type": "markdown",
   "metadata": {},
   "source": [
    "## Задача 5 (0.25т.)\n",
    "\n",
    "Пребройте колко различни символа има в даден низ."
   ]
  },
  {
   "cell_type": "code",
   "execution_count": 11,
   "metadata": {},
   "outputs": [
    {
     "data": {
      "text/plain": [
       "'✅ All OK! +0.25 points'"
      ]
     },
     "execution_count": 11,
     "metadata": {},
     "output_type": "execute_result"
    }
   ],
   "source": [
    "def unique_chars_count(s):\n",
    "    checked = []\n",
    "    for i in s:\n",
    "        if not i in checked:\n",
    "            checked.append(i)\n",
    "        else :\n",
    "            continue\n",
    "    return len(set(s))\n",
    "    # pass # write your code here\n",
    "\n",
    "# Tests:\n",
    "\n",
    "assert unique_chars_count(\"abcdef\") == 6\n",
    "assert unique_chars_count(\"aabbcc\") == 3\n",
    "assert unique_chars_count(\"abcabc\") == 3\n",
    "assert unique_chars_count(\"aaaaaa\") == 1\n",
    "assert unique_chars_count(\"\") == 0\n",
    "\n",
    "\"✅ All OK! +0.25 points\""
   ]
  },
  {
   "cell_type": "markdown",
   "metadata": {},
   "source": [
    "## Задача 6 (0.75т.)\n",
    "\n",
    "Цензурирайте всички лоши думички в даден текст, заменяйки ги със звездички. \n",
    "\n",
    "* Лошите думички сa дадени в списъка `BAD_WORDS`.\n",
    "* Върнете текста, като замените всички лоши думички със звездички (`\"*\"`) (толкова на брой, колкото символи има въпросната дума).\n",
    "* За простота не проверявайте за главни и малки букви, а ги заменяйте както са ви дадени.\n",
    "* Hint: за да създадете стринг с `n` на брой символа `\"x\"`, използвайте `n * \"x\"`.\n",
    "* Hint 2: ползвайте `str.split` и `str.join`"
   ]
  },
  {
   "cell_type": "code",
   "execution_count": 15,
   "metadata": {},
   "outputs": [
    {
     "name": "stdout",
     "output_type": "stream",
     "text": [
      "this line should not be censored at all\n",
      "**** this *****\n",
      "This task is UTTER ********\n",
      "\n"
     ]
    },
    {
     "data": {
      "text/plain": [
       "'✅ All OK! +0.75 points'"
      ]
     },
     "execution_count": 15,
     "metadata": {},
     "output_type": "execute_result"
    }
   ],
   "source": [
    "BAD_WORDS = [\n",
    "    \"fuck\",\n",
    "    \"shit\",\n",
    "    \"bullshit\",\n",
    "    \"bastard\",\n",
    "    \"bitch\",\n",
    "    \"whore\",\n",
    "    \"damn\",\n",
    "]\n",
    "\n",
    "\n",
    "def censored(text):\n",
    "    list_of_words = text.split(' ')\n",
    "    for i, word in enumerate(list_of_words):\n",
    "        if word.lower() in BAD_WORDS:\n",
    "            list_of_words[i] = '*' * len(word)\n",
    "    to_return = (\" \").join(list_of_words)\n",
    "    print (to_return)\n",
    "    return to_return\n",
    "    # pass # write your code here\n",
    "\n",
    "\n",
    "# Tests:\n",
    "\n",
    "assert censored(\"this line should not be censored at all\") == \"this line should not be censored at all\"\n",
    "assert censored(\"fuck this bitch\") == \"**** this *****\"\n",
    "assert censored(\"This task is UTTER BULLshit\") == \"This task is UTTER ********\", \"be careful with the case!\"\n",
    "assert censored(\"\") == \"\"\n",
    "\n",
    "\"✅ All OK! +0.75 points\""
   ]
  },
  {
   "cell_type": "markdown",
   "metadata": {},
   "source": [
    "## Задача 7 (0.5т.)\n",
    "\n",
    "Направете стек:\n",
    "\n",
    "* в инициализатора си да приема неопределен брой аргументи - елементите на стека (първи-последен <-> отляво-надясно)\n",
    "* атрибут `top` - връща последния елемент от стека (`None` ако няма такъв)\n",
    "* метод `push(x)` - добавя `x` към края на стека\n",
    "* метод `pop()` - премахва последния елемент от стека\n",
    "* предефинирайте `__len__`"
   ]
  },
  {
   "cell_type": "code",
   "execution_count": 20,
   "metadata": {},
   "outputs": [
    {
     "data": {
      "text/plain": [
       "'✅ All OK! +0.5 point'"
      ]
     },
     "execution_count": 20,
     "metadata": {},
     "output_type": "execute_result"
    }
   ],
   "source": [
    "class Stack:\n",
    "    def __init__(self, *args):\n",
    "        self.elements = []\n",
    "        for element in args:\n",
    "            self.elements.append(element)\n",
    "    \n",
    "    def __len__(self):\n",
    "        return len(self.elements)\n",
    "    \n",
    "    @property\n",
    "    def top(self):\n",
    "        if len(self.elements) == 0:\n",
    "            return None\n",
    "        else:\n",
    "            return self.elements[-1]\n",
    "        \n",
    "    def push(self, element):\n",
    "        self.elements.append(element)\n",
    "        \n",
    "    \n",
    "    def pop(self):\n",
    "        self.elements.pop()\n",
    "    # pass # write your code here\n",
    "\n",
    "\n",
    "# Tests:\n",
    "assert Stack().top is None\n",
    "assert Stack(\"a\").top == \"a\"\n",
    "assert Stack(1, 2, 3, 4, 5).top == 5\n",
    "assert Stack(*list(range(1000))).top == 999\n",
    "\n",
    "# pop\n",
    "s = Stack(\"a\", \"b\", \"c\", \"d\")\n",
    "s.pop()\n",
    "assert s.top == \"c\"\n",
    "s.pop()\n",
    "s.pop()\n",
    "assert s.top == \"a\"\n",
    "s.pop()\n",
    "assert s.top is None\n",
    "\n",
    "# push\n",
    "s.push(\"X\")\n",
    "assert s.top == \"X\"\n",
    "s.push(\"X\")\n",
    "s.push(\"X\")\n",
    "assert s.top == \"X\"\n",
    "\n",
    "# len\n",
    "assert len(s) == 3\n",
    "s.pop(); s.pop(); s.pop()\n",
    "assert len(s) == 0\n",
    "\n",
    "\"✅ All OK! +0.5 point\""
   ]
  },
  {
   "cell_type": "markdown",
   "metadata": {},
   "source": [
    "## Задача 8 (0.5 т.)\n",
    "\n",
    "Създайте функция `find_shortest_and_longest_words`, която:\n",
    "* Приема 2 параметъра - списък и буква\n",
    "* Връща наредена двойка от най-късата и най-дългата дума в списъка, която започва с дадената буква"
   ]
  },
  {
   "cell_type": "code",
   "execution_count": 10,
   "metadata": {},
   "outputs": [
    {
     "name": "stdout",
     "output_type": "stream",
     "text": [
      "0\n",
      "ant abracadabra\n",
      "0\n",
      "banana banana\n"
     ]
    },
    {
     "data": {
      "text/plain": [
       "'✅ All OK! +0.5 points'"
      ]
     },
     "execution_count": 10,
     "metadata": {},
     "output_type": "execute_result"
    }
   ],
   "source": [
    "def find_shortest_and_longest_words(words, letter):\n",
    "    shortest = \"\"\n",
    "    longest = \"\"\n",
    "    print (len(shortest))\n",
    "    for word in words:\n",
    "        if letter in word:\n",
    "            if (len(longest) == 0 and word[0] == letter) or (len(word) > len(longest) and word[0] == letter):\n",
    "                longest = word\n",
    "                \n",
    "            if (len(shortest) == 0 and word[0] == letter) or  (len(word) < len(shortest) and word[0] == letter):\n",
    "                shortest = word\n",
    "    \n",
    "    # if shortest is None:\n",
    "    #     shortest = \"\"\n",
    "    # if longest is None:\n",
    "    #     longest = \"\"\n",
    "    \n",
    "    print (shortest,longest)\n",
    "    return (shortest, longest)\n",
    "    # pass\n",
    "\n",
    "# Tests\n",
    "\n",
    "assert find_shortest_and_longest_words([\"abracadabra\", \"banana\", \"kugelschreiber\", \"ant\", \"almost\", \"thisshouldbeaverylongword\"], \"a\") == (\"ant\", \"abracadabra\")\n",
    "assert find_shortest_and_longest_words([\"abracadabra\", \"banana\", \"kugelschreiber\", \"ant\", \"almost\", \"thisshouldbeaverylongword\"], \"b\") == (\"banana\", \"banana\")\n",
    "\n",
    "\"✅ All OK! +0.5 points\""
   ]
  },
  {
   "cell_type": "markdown",
   "metadata": {},
   "source": [
    "## Задача 9 (1т.)\n",
    "\n",
    "Да се дефинира клас `Version`, който моделира [числата на една софтуерна версия](https://en.wikipedia.org/wiki/Software_versioning#Semantic_versioning). Нека има следните свойства:\n",
    "\n",
    "* да може да се инициализира по два различни начина:\n",
    "    * чрез `str` във формат `{major}.{minor}.{patch}` (например `\"1.0.2\"`)\n",
    "    * чрез три `int`-a: `major`, `minor` и `patch` (например `1, 0, 2`)\n",
    "* read-only атрибут `major` (тип `int`)\n",
    "* read-only атрибут `minor` (тип `int`)\n",
    "* read-only атрибут `patch` (тип `int`)\n",
    "* метод `__str__`, който конвертира обекта в `str` в подходящ формат\n",
    "* метод `__repr__`, който връща репрезентация на обекта в подходящ формат\n",
    "* метод `__eq__`, който сравнява две версии в няколко различни случая:\n",
    "    1. ако другият операнд е от тип `Version`, сравнява ги с `==` по `major`, `minor` и `patch`\n",
    "    2. ако другият операнд е от тип `str`, то първо конвертира низa към `Version` и след това прилага горното правило\n",
    "    3. ако другият операнд е от друг тип, връща `False`\n",
    "* метод `__ne__`, който сравнява две версии по същия начин, но с `!=` вместо `==`\n",
    "* метод `__lt__`, който сравнява две версии по същия начин, но с `<` вместо `==`\n",
    "* метод `__gt__`, който сравнява две версии по същия начин, но с `>` вместо `==`\n",
    "\n",
    "Този клас хешируем ли е? Защо?"
   ]
  },
  {
   "cell_type": "code",
   "execution_count": 9,
   "metadata": {},
   "outputs": [
    {
     "data": {
      "text/plain": [
       "'✅ All OK! +1 point'"
      ]
     },
     "execution_count": 9,
     "metadata": {},
     "output_type": "execute_result"
    }
   ],
   "source": [
    "class Version:\n",
    "    \n",
    "    def __init__(self, *args) :\n",
    "        if len(args) == 1 and isinstance(args[0], str):\n",
    "            helper = args[0].split('.')\n",
    "            self.version = []\n",
    "            for i in helper:\n",
    "                self.version.append(int(i));\n",
    "        elif len(args) > 1:\n",
    "            self.version = list(args)\n",
    "        else:\n",
    "            print(\"Wrong type\")\n",
    "            \n",
    "    @property           \n",
    "    def major(self):\n",
    "        return self.version[0]\n",
    "    \n",
    "    @property           \n",
    "    def minor(self):\n",
    "        return self.version[1]\n",
    "    \n",
    "    @property\n",
    "    def patch(self):\n",
    "        return self.version[2]\n",
    "    \n",
    "    def __str__(self):\n",
    "        helper = []\n",
    "        for i in self.version:\n",
    "            helper.append(str(i))\n",
    "            \n",
    "        return '.'.join(helper)\n",
    "    \n",
    "    def __repr__(self):\n",
    "        to_return = \"Version(\"\n",
    "        for i in self.version:\n",
    "            to_return += str(i) \n",
    "            if i != self.version[-1]:\n",
    "                to_return += \", \"\n",
    "                \n",
    "        to_return += \")\"\n",
    "        # print (to_return)\n",
    "        return str(to_return)\n",
    "        \n",
    "    def __eq__(self, other):\n",
    "        if isinstance(other, str):\n",
    "            other  = Version(other)\n",
    "            return (self.major == other.major) and (self.minor == other.minor) and (self.patch == other.patch )\n",
    "            \n",
    "        elif isinstance(other, Version):\n",
    "            \n",
    "            return (self.major == other.major) and (self.minor == other.minor) and (self.patch == other.patch )\n",
    "    \n",
    "    def __ne__(self, other):\n",
    "        if isinstance(other, str):\n",
    "            other  = Version(other)\n",
    "            return (self.major != other.major) or (self.minor != other.minor) or (self.patch != other.patch )\n",
    "            \n",
    "        elif isinstance(other, Version):\n",
    "            \n",
    "            return (self.major != other.major) or (self.minor != other.minor) or (self.patch != other.patch )\n",
    "    \n",
    "    def __lt__(self, other):\n",
    "        if isinstance(other, str):\n",
    "            other  = Version(other)\n",
    "            return (self.major < other.major) or (self.minor < other.minor) or (self.patch < other.patch )\n",
    "            \n",
    "        elif isinstance(other, Version):\n",
    "            \n",
    "            return (self.major < other.major) or (self.minor < other.minor) or (self.patch < other.patch )\n",
    "        \n",
    "    def __gt__(self, other):\n",
    "        if isinstance(other, str):\n",
    "            other  = Version(other)\n",
    "            return (self.major > other.major) or (self.minor > other.minor) or (self.patch > other.patch )\n",
    "            \n",
    "        elif isinstance(other, Version):\n",
    "            \n",
    "            return (self.major > other.major) or (self.minor > other.minor) or (self.patch > other.patch )\n",
    "    # pass # write your code here\n",
    "\n",
    "\n",
    "# Tests:\n",
    "\n",
    "assert Version(1, 2, 3).major == 1\n",
    "assert Version(1, 2, 3).minor == 2\n",
    "assert Version(1, 2, 3).patch == 3\n",
    "assert Version(\"1.2.3\").major == 1\n",
    "assert Version(\"1.2.3\").minor == 2\n",
    "assert Version(\"1.2.3\").patch == 3\n",
    "assert Version(\"10.2.304\").major == 10\n",
    "assert Version(\"10.2.304\").minor == 2\n",
    "assert Version(\"10.2.304\").patch == 304\n",
    "assert str(Version(1, 2, 3)) == \"1.2.3\"\n",
    "assert repr(Version(1, 2, 3)) == \"Version(1, 2, 3)\"\n",
    "assert Version(1, 2, 3) == Version(1, 2, 3)\n",
    "assert Version(1, 2, 3) == \"1.2.3\"\n",
    "assert Version(1, 2, 3) != Version(1, 2, 4)\n",
    "assert Version(1, 2, 3) != \"1.2.4\"\n",
    "assert Version(1, 2, 3) < Version(2, 0, 0)\n",
    "assert Version(1, 2, 3) < \"2.0.0\"\n",
    "assert Version(1, 2, 3) < Version(1, 3, 0)\n",
    "assert Version(1, 2, 3) < \"1.3.0\"\n",
    "assert Version(1, 2, 3) < Version(1, 2, 4)\n",
    "assert Version(1, 2, 3) < \"1.2.4\"\n",
    "assert Version(\"1.2.3\") < Version(\"1.12.0\")\n",
    "assert Version(\"1.2.3\") < \"1.12.0\"\n",
    "assert Version(1, 2, 3) > Version(0, 9, 0)\n",
    "assert Version(1, 2, 3) > \"0.9.0\"\n",
    "assert Version(1, 2, 3) > Version(1, 1, 0)\n",
    "assert Version(1, 2, 3) > \"1.1.0\"\n",
    "assert Version(1, 2, 3) > Version(1, 2, 2)\n",
    "assert Version(1, 2, 3) > \"1.2.2\"\n",
    "assert Version(\"1.1.13\") > Version(\"1.1.3\")\n",
    "assert Version(\"1.1.13\") > \"1.1.3\"\n",
    "\n",
    "\"✅ All OK! +1 point\""
   ]
  },
  {
   "cell_type": "markdown",
   "metadata": {},
   "source": [
    "## Задача 10 (2 т.)\n",
    "\n",
    "Създайте клас ElectronicDevice, който има:\n",
    "* атрибут serial_number (низ, смесица от латински букви и числа)\n",
    "* атрибут brand (низ)\n",
    "* атрибут model (низ)\n",
    "* атрибут internal_memory (число)\n",
    "* инициализатор, който приема и задава стойности на дадените атрибути\n",
    "* метод show_device_info, който връща информация за устройството в следния формат: \"You have electronic device {brand} {model} with {internal_memory}GB memory\"\n",
    "* метод show_storage_info, който връща съобщение \"Your device has {internal_memory}GB\"\n",
    "* метод `__str__`\n",
    "* метод `__repr__`\n",
    "\n",
    "Създайте клас Smartphone, който наследява класа ElectronicDevice. Нека има:\n",
    "* атрибут available_storage (число, първоначално равно на internal_memory)\n",
    "* атрибут main_camera_quality (число)\n",
    "* атрибут installed_apps (списък, по подразбиране е празен)\n",
    "* инициализатор, който приема и задава стойности на дадените атрибути  \n",
    "* метод show_device_info, който връща информация за устройството в следния формат: \"You have smartphone {brand} {model} with {internal_memory}GB memory and {main_camera_quality}MP camera\"\n",
    "* метод show_storage_info, който връща съобщение \"Your smartphone has {available_storage}GB available storage out of {internal_memory}GB\"\n",
    "* метод install_app(app_name, space_needed), който:\n",
    "    * Ако е възможно, добавя приложението към списъка с приложения и извежда съобщение \"You successfully installed {app_name}\". \n",
    "    * Ако не е възможно, връща съобщение \"Seems like you don't have enough space. Available storage space: {available_storage}GB\"\n",
    "* метод `__str__`\n",
    "* метод `__repr__`\n",
    "\n",
    "Създайте клас Laptop, който наследява класа ElectronicDevice. Нека има:\n",
    "* атрибут processor (низ)\n",
    "* атрибут processor_version (низ)\n",
    "* инициализатор, който приема и задава стойности на дадените атрибути\n",
    "* метод show_device_info, който връща информация за устройството в следния формат: \"You have laptop {brand} {model} with {internal_memory}GB memory and {processor} {processor_version} processor\"\n",
    "* метод show_storage_info, който връща съобщение \"Your laptop has {internal_memory}GB\"\n",
    "* метод connect_device(device_name), който връща следното съобщение: \"You just connected {device_name} to {brand} {model}\"\n",
    "* метод `__str__`\n",
    "* метод `__repr__`\n"
   ]
  },
  {
   "cell_type": "code",
   "execution_count": 2,
   "metadata": {},
   "outputs": [
    {
     "ename": "AttributeError",
     "evalue": "'ElectronicDevice' object has no attribute 'serial_number'",
     "output_type": "error",
     "traceback": [
      "\u001b[0;31m---------------------------------------------------------------------------\u001b[0m",
      "\u001b[0;31mAttributeError\u001b[0m                            Traceback (most recent call last)",
      "\u001b[1;32m/mnt/c/Users/aatanasov01/OneDrive - PROS/Desktop/Python/PythonCourse2023/lab01/tasks.ipynb Cell 21\u001b[0m line \u001b[0;36m8\n\u001b[1;32m     <a href='vscode-notebook-cell://wsl%2Bubuntu/mnt/c/Users/aatanasov01/OneDrive%20-%20PROS/Desktop/Python/PythonCourse2023/lab01/tasks.ipynb#X26sdnNjb2RlLXJlbW90ZQ%3D%3D?line=79'>80</a>\u001b[0m \u001b[39m# Tests:\u001b[39;00m\n\u001b[1;32m     <a href='vscode-notebook-cell://wsl%2Bubuntu/mnt/c/Users/aatanasov01/OneDrive%20-%20PROS/Desktop/Python/PythonCourse2023/lab01/tasks.ipynb#X26sdnNjb2RlLXJlbW90ZQ%3D%3D?line=80'>81</a>\u001b[0m \n\u001b[1;32m     <a href='vscode-notebook-cell://wsl%2Bubuntu/mnt/c/Users/aatanasov01/OneDrive%20-%20PROS/Desktop/Python/PythonCourse2023/lab01/tasks.ipynb#X26sdnNjb2RlLXJlbW90ZQ%3D%3D?line=81'>82</a>\u001b[0m \u001b[39m# ElectronicDevice tests\u001b[39;00m\n\u001b[1;32m     <a href='vscode-notebook-cell://wsl%2Bubuntu/mnt/c/Users/aatanasov01/OneDrive%20-%20PROS/Desktop/Python/PythonCourse2023/lab01/tasks.ipynb#X26sdnNjb2RlLXJlbW90ZQ%3D%3D?line=82'>83</a>\u001b[0m test_electronic_device \u001b[39m=\u001b[39m ElectronicDevice(\u001b[39m\"\u001b[39m\u001b[39m8vef15c6\u001b[39m\u001b[39m\"\u001b[39m, \u001b[39m\"\u001b[39m\u001b[39mTestBrand\u001b[39m\u001b[39m\"\u001b[39m, \u001b[39m\"\u001b[39m\u001b[39mTestModel\u001b[39m\u001b[39m\"\u001b[39m, \u001b[39m128\u001b[39m)\n\u001b[0;32m---> <a href='vscode-notebook-cell://wsl%2Bubuntu/mnt/c/Users/aatanasov01/OneDrive%20-%20PROS/Desktop/Python/PythonCourse2023/lab01/tasks.ipynb#X26sdnNjb2RlLXJlbW90ZQ%3D%3D?line=83'>84</a>\u001b[0m \u001b[39massert\u001b[39;00m test_electronic_device\u001b[39m.\u001b[39;49mserial_number \u001b[39m==\u001b[39m \u001b[39m\"\u001b[39m\u001b[39m8vef15c6\u001b[39m\u001b[39m\"\u001b[39m\n\u001b[1;32m     <a href='vscode-notebook-cell://wsl%2Bubuntu/mnt/c/Users/aatanasov01/OneDrive%20-%20PROS/Desktop/Python/PythonCourse2023/lab01/tasks.ipynb#X26sdnNjb2RlLXJlbW90ZQ%3D%3D?line=84'>85</a>\u001b[0m \u001b[39massert\u001b[39;00m test_electronic_device\u001b[39m.\u001b[39mbrand \u001b[39m==\u001b[39m \u001b[39m\"\u001b[39m\u001b[39mTestBrand\u001b[39m\u001b[39m\"\u001b[39m\n\u001b[1;32m     <a href='vscode-notebook-cell://wsl%2Bubuntu/mnt/c/Users/aatanasov01/OneDrive%20-%20PROS/Desktop/Python/PythonCourse2023/lab01/tasks.ipynb#X26sdnNjb2RlLXJlbW90ZQ%3D%3D?line=85'>86</a>\u001b[0m \u001b[39massert\u001b[39;00m test_electronic_device\u001b[39m.\u001b[39mmodel \u001b[39m==\u001b[39m \u001b[39m\"\u001b[39m\u001b[39mTestModel\u001b[39m\u001b[39m\"\u001b[39m\n",
      "\u001b[0;31mAttributeError\u001b[0m: 'ElectronicDevice' object has no attribute 'serial_number'"
     ]
    }
   ],
   "source": [
    "class ElectronicDevice:\n",
    "    def __init__(self, serial_number, brand, model, internal_memory):\n",
    "        self.serial_numer = serial_number\n",
    "        self.brand = brand\n",
    "        self.model = model\n",
    "        self.internal_memory = internal_memory\n",
    "        \n",
    "    @property\n",
    "    def show_device_info(self):\n",
    "        return \"You have electronic device \" + self.brand + self.model + \" with \" + self.internal_memory + \"GB memory\"\n",
    "    \n",
    "    @property\n",
    "    def show_storage_info(self):\n",
    "        return \"Your device has\" + self.internal_memory + \"GB\"\n",
    "    \n",
    "    def __str__(self):\n",
    "        helper = []\n",
    "        \n",
    "        helper.append(self.serial_numer)\n",
    "        helper.append(self.brand)\n",
    "        helper.append(self.model)\n",
    "        helper.append(self.internal_memory)\n",
    "            \n",
    "        return '.'.join(helper)\n",
    "    \n",
    "    def __repr__(self):\n",
    "        helper = []\n",
    "        \n",
    "        helper.append(self.serial_numer)\n",
    "        helper.append(self.brand)\n",
    "        helper.append(self.model)\n",
    "        helper.append(self.internal_memory)\n",
    "        to_return = \"Device(\"\n",
    "        for i in helper:\n",
    "            to_return += str(i) \n",
    "            if i != self.version[-1]:\n",
    "                to_return += \", \"\n",
    "                \n",
    "        to_return += \")\"\n",
    "        # print (to_return)\n",
    "        return str(to_return)\n",
    "\n",
    "class Smartphone(ElectronicDevice):\n",
    "    def __init__(self, serial_number, brand, model, internal_memory, main_camera_quality, installed_apps=[]):\n",
    "        super().__init__(self, serial_number, brand, model, internal_memory)\n",
    "        self.available_storage = self.internal_memory\n",
    "        self.main_camera_quality = main_camera_quality\n",
    "        self.installed_apps = installed_apps\n",
    "        \n",
    "    @property\n",
    "    def show_device_info(self):\n",
    "        return \"You have smartphone \" + self.brand + self.model + \" with \" + self.internal_memory + \"GB memory\" + \" and \" + self.main_camera_quality + \"MP camera\"\n",
    "    # pass\n",
    "    @property\n",
    "    def show_storage_info(self):\n",
    "        return \"Your smartphone has\" + self.available_storage + \"GB available storage out of \" + self.internal_memory + \"GB\"\n",
    "\n",
    "    def install_app(self, app_name, space_needed):\n",
    "        if int(space_needed) < int(self.available_storage):\n",
    "            self.installed_apps.append(app_name)\n",
    "            self.available_storage -= space_needed\n",
    "            return \"You successfully installed\" + str(app_name)\n",
    "        else:\n",
    "            return \"Seems like you don't have enough space. Available storage space: \" + self.available_storage + \"GB\"\n",
    "    \n",
    "   \n",
    "class Laptop(ElectronicDevice):\n",
    "    def __init__(self, serial_number, brand, model, internal_memory, processor, processor_version):\n",
    "        super().__init__(self, serial_number, brand, model, internal_memory)\n",
    "        self.processor = processor\n",
    "        \n",
    "    def show_device_info(self):\n",
    "        return \"You have laptop \" + self.brand +  self.model + \" with\"  + self.internal_memory + \"GB memory and\" + self.processor +  self.processor_version +  self.processor\n",
    "    def show_storage_info(self):\n",
    "        return \"Your laptop has \" + self.internal_memory + \"GB\"\n",
    "        \n",
    "    def conenct_device (self, device_name):\n",
    "        return \"You have connected device: \" + device_name + \"to\" + self.brand + self.model\n",
    "\n",
    "# Tests:\n",
    "\n",
    "# ElectronicDevice tests\n",
    "test_electronic_device = ElectronicDevice(\"8vef15c6\", \"TestBrand\", \"TestModel\", 128)\n",
    "assert test_electronic_device.serial_number == \"8vef15c6\"\n",
    "assert test_electronic_device.brand == \"TestBrand\"\n",
    "assert test_electronic_device.model == \"TestModel\"\n",
    "assert test_electronic_device.internal_memory == 128\n",
    "assert test_electronic_device.show_device_info() == \"You have electronic device TestBrand TestModel with 128GB memory\"\n",
    "assert test_electronic_device.show_storage_info() == \"Your device has 128GB\"\n",
    "\n",
    "# Smarthphone tests\n",
    "assert issubclass(Smartphone, ElectronicDevice)\n",
    "test_smartphone = Smartphone(\"9pol23k7\", \"TestBrand2\", \"TestModel2\", 256, main_camera_quality=13)\n",
    "# assert test_smartphone.serial_number == \"9pol23k7\"\n",
    "assert test_smartphone.brand == \"TestBrand2\"\n",
    "assert test_smartphone.model == \"TestModel2\"\n",
    "assert test_smartphone.internal_memory == 256\n",
    "assert test_smartphone.available_storage == 256\n",
    "assert test_smartphone.main_camera_quality == 13\n",
    "assert test_smartphone.installed_apps == []\n",
    "assert test_smartphone.show_device_info() == \"You have smartphone TestBrand2 TestModel2 with 256GB memory and 13MP camera\"\n",
    "res1 =  test_smartphone.install_app(\"TestApp\", 56)\n",
    "assert res1 == \"You successfully installed TestApp\"\n",
    "assert len(test_smartphone.installed_apps) == 1\n",
    "assert \"TestApp\" in test_smartphone.installed_apps\n",
    "assert test_smartphone.show_storage_info() == \"Your smartphone has 200GB available storage out of 256GB\"\n",
    "res2 = test_smartphone.install_app(\"TestApp2\", 201)\n",
    "assert res2 == \"Seems like you don't have enough space. Available storage space: 200GB\"\n",
    "assert len(test_smartphone.installed_apps) == 1\n",
    "assert \"TestApp2\" not in test_smartphone.installed_apps \n",
    "\n",
    "# Laptop tests\n",
    "assert issubclass(Laptop, ElectronicDevice)\n",
    "test_laptop = Laptop(\"7yeu14t3\", \"TestBrand3\", \"TestModel3\", 512, \"TestProcessor\", \"v5.2.1.13\")\n",
    "assert test_laptop.serial_number == \"7yeu14t3\"\n",
    "assert test_laptop.brand == \"TestBrand3\"\n",
    "assert test_laptop.model == \"TestModel3\"\n",
    "assert test_laptop.internal_memory == 512\n",
    "assert test_laptop.processor == \"TestProcessor\"\n",
    "assert test_laptop.processor_version == \"v5.2.1.13\"\n",
    "assert test_laptop.show_device_info() == \"You have laptop TestBrand3 TestModel3 with 512GB memory and TestProcessor v5.2.1.13 processor\"\n",
    "assert test_laptop.show_storage_info() == \"Your laptop has 512GB\"\n",
    "assert test_laptop.connect_device(\"TestConnectedDevice\") == \"You just connected TestConnectedDevice to TestBrand3 TestModel3\"\n",
    "\n",
    "\"✅ All OK! +2.0 points\""
   ]
  }
 ],
 "metadata": {
  "kernelspec": {
   "display_name": "Python 3",
   "language": "python",
   "name": "python3"
  },
  "language_info": {
   "codemirror_mode": {
    "name": "ipython",
    "version": 3
   },
   "file_extension": ".py",
   "mimetype": "text/x-python",
   "name": "python",
   "nbconvert_exporter": "python",
   "pygments_lexer": "ipython3",
   "version": "3.10.12"
  }
 },
 "nbformat": 4,
 "nbformat_minor": 2
}
